{
 "cells": [
  {
   "cell_type": "markdown",
   "id": "be304c15",
   "metadata": {},
   "source": [
    "## Binomial distribution\n",
    "- distribution of a descrete random variable\n",
    "\n",
    "X is a binomial random variable if:\n",
    "\n",
    "An experiment, or trial, is performed in exactly the same way n times.\n",
    "Each of the n trials has only two possible outcomes. One of the outcomes is called a \"success,\" while the other is called a \"failure.\" Such a trial is called a Bernoulli trial.\n",
    "The n trials are independent.\n",
    "The probability of success, denoted p, is the same for each trial. The probability of failure is q=1−p.\n",
    "\n",
    "\n",
    "Make a Binomial Random variable X\n",
    " and compute its probability mass function (PMF) or cumulative density function (CDF). We love the scipy stats library because it defines all the functions you would care about for a random variable, including expectation, variance, and even things we haven't talked about in CS109, like entropy. This example declares X∼Bin(n=10,p=0.2)\n",
    ". It calculates a few statistics on X\n",
    ". It then calculates P(X=3)\n",
    " and P(X≤4)\n",
    ". Finally it generates a few random samples from X\n"
   ]
  },
  {
   "cell_type": "code",
   "execution_count": 3,
   "id": "7581723d",
   "metadata": {},
   "outputs": [
    {
     "name": "stdout",
     "output_type": "stream",
     "text": [
      "0.20132659200000022\n",
      "0.9672065024000001\n",
      "2.0\n",
      "1.6\n",
      "1.2649110640673518\n"
     ]
    }
   ],
   "source": [
    "from scipy import stats\n",
    "X = stats.binom(10, 0.2) # Declare X to be a binomial random variable\n",
    "print(X.pmf(3))           # P(X = 3)  #probability mass function\n",
    "print(X.cdf(4))           # P(X <= 4) #cumulative density function\n",
    "print(X.mean())           # E[X] #expected value\n",
    "print(X.var())            # Var(X) #varianve\n",
    "print(X.std())            # Std(X) # standard deviation \n",
    " "
   ]
  },
  {
   "cell_type": "markdown",
   "id": "4473df54",
   "metadata": {},
   "source": [
    "## Poisson\n",
    "\n",
    "The Poisson distribution is a discrete probability distribution that expresses the probability of a given number of events occurring in a fixed interval of time\n",
    "\n",
    "\n",
    "Make a Poisson Random variable Y\n",
    ". This example declares Y∼Poi(λ=2)\n",
    ". It then calculates P(Y=3)\n"
   ]
  },
  {
   "cell_type": "code",
   "execution_count": 8,
   "id": "ea8ba26d",
   "metadata": {},
   "outputs": [
    {
     "name": "stdout",
     "output_type": "stream",
     "text": [
      "0.18044704431548356\n"
     ]
    }
   ],
   "source": [
    "from scipy import stats\n",
    "Y = stats.poisson(2)  # Declare Y to be a poisson random variable\n",
    "print(Y.pmf(3))       # P(Y = 3)  #probability mass function\n",
    "       "
   ]
  },
  {
   "cell_type": "markdown",
   "id": "3eef6b65",
   "metadata": {},
   "source": [
    "## Geometric Distribution \n",
    "- distribution of a descrete random variable \n",
    "The geometric distribution is useful for determining the likelihood of a success given a limited number of trials. \n",
    "\n",
    "\n",
    "Make a Geometric Random variable X,the number of trials until a success. This example declares X∼Geo(p=0.75)\n"
   ]
  },
  {
   "cell_type": "code",
   "execution_count": 9,
   "id": "f4e66b7c",
   "metadata": {},
   "outputs": [
    {
     "name": "stdout",
     "output_type": "stream",
     "text": [
      "0.046875\n"
     ]
    }
   ],
   "source": [
    "from scipy import stats\n",
    "X = stats.geom(0.75)  # Declare X to be a geometric random variable\n",
    "print(X.pmf(3))       # P(X = 3) #probability mass function"
   ]
  },
  {
   "cell_type": "markdown",
   "id": "e5b9d39d",
   "metadata": {},
   "source": [
    "## Normal Distribution ( Gaussian) \n",
    "- distribution of a continues random variable \n"
   ]
  },
  {
   "cell_type": "markdown",
   "id": "4f9b9959",
   "metadata": {},
   "source": [
    "Make a Normal Random variable A\n",
    ". This example declares A∼N(μ=3,σ2=16)\n",
    ". It then calculates fY(0)\n"
   ]
  },
  {
   "cell_type": "code",
   "execution_count": 10,
   "id": "37323747",
   "metadata": {},
   "outputs": [
    {
     "name": "stdout",
     "output_type": "stream",
     "text": [
      "0.09666702920071232\n",
      "0.4012936743170763\n"
     ]
    }
   ],
   "source": [
    "import math\n",
    "from scipy import stats\n",
    "A = stats.norm(3, math.sqrt(16)) # Declare A to be a normal random variable\n",
    "print(A.pdf(4))       \t\t\t # f(3), the probability density at 3\n",
    "print(A.cdf(2))       \t\t\t # F(2), which is also P(Y < 2)"
   ]
  },
  {
   "cell_type": "markdown",
   "id": "5bd4da24",
   "metadata": {},
   "source": [
    "## Exponential"
   ]
  },
  {
   "cell_type": "markdown",
   "id": "c0172507",
   "metadata": {},
   "source": [
    "-continuous distribution.\n",
    "It is often used to model the time elapsed between events.\n",
    "\n",
    "Make an Exponential Random variable B\n",
    ". This example declares B∼Exp(λ=4)\n"
   ]
  },
  {
   "cell_type": "code",
   "execution_count": 11,
   "id": "a09053e5",
   "metadata": {},
   "outputs": [
    {
     "name": "stdout",
     "output_type": "stream",
     "text": [
      "0.07326255555493671\n",
      "0.9996645373720975\n"
     ]
    }
   ],
   "source": [
    "from scipy import stats\n",
    "# `λ` is a common parameterization for the exponential,\n",
    "#  but `scipy` uses `scale` which is `1/λ`\n",
    "B = stats.expon(scale=1/4)\n",
    "print(B.pdf(1))             # f(1), the probability density at 1\n",
    "print(B.cdf(2))             # F(2) which is also P(B < 2)"
   ]
  },
  {
   "cell_type": "code",
   "execution_count": null,
   "id": "7e5753f1",
   "metadata": {},
   "outputs": [],
   "source": []
  }
 ],
 "metadata": {
  "kernelspec": {
   "display_name": "Python 3",
   "language": "python",
   "name": "python3"
  },
  "language_info": {
   "codemirror_mode": {
    "name": "ipython",
    "version": 3
   },
   "file_extension": ".py",
   "mimetype": "text/x-python",
   "name": "python",
   "nbconvert_exporter": "python",
   "pygments_lexer": "ipython3",
   "version": "3.8.8"
  }
 },
 "nbformat": 4,
 "nbformat_minor": 5
}
